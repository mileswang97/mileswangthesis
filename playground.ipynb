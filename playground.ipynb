{
 "cells": [
  {
   "cell_type": "code",
   "execution_count": 2,
   "metadata": {},
   "outputs": [],
   "source": [
    "import numpy as np\n",
    "import matplotlib.pyplot as plt\n",
    "import os\n",
    "import pandas as pd\n"
   ]
  },
  {
   "cell_type": "code",
   "execution_count": 8,
   "metadata": {},
   "outputs": [],
   "source": [
    "train_axial_path = \"D:/github/mileswangthesis/train/axial\"\n",
    "\n",
    "filenames = list()\n",
    "for filename in os.listdir(train_axial_path):\n",
    "    if filename != '.DS_Store':\n",
    "        filenames.append(filename)"
   ]
  },
  {
   "cell_type": "code",
   "execution_count": 17,
   "metadata": {},
   "outputs": [
    {
     "name": "stdout",
     "output_type": "stream",
     "text": [
      "(1, 256, 256)\n",
      "(44, 256, 256)\n",
      "(45, 256, 256)\n",
      "(36, 256, 256)\n",
      "(81, 256, 256)\n",
      "(36, 256, 256)\n",
      "vol shape (117, 256, 256)\n",
      "(1, 256, 256)\n",
      "(30, 256, 256)\n",
      "(31, 256, 256)\n",
      "(26, 256, 256)\n",
      "(57, 256, 256)\n",
      "(20, 256, 256)\n",
      "vol shape (77, 256, 256)\n",
      "(1, 256, 256)\n",
      "(38, 256, 256)\n",
      "(39, 256, 256)\n",
      "(32, 256, 256)\n",
      "(71, 256, 256)\n",
      "(32, 256, 256)\n",
      "vol shape (103, 256, 256)\n",
      "(1, 256, 256)\n",
      "(33, 256, 256)\n",
      "(34, 256, 256)\n",
      "(30, 256, 256)\n",
      "(64, 256, 256)\n",
      "(28, 256, 256)\n",
      "vol shape (92, 256, 256)\n",
      "(1, 256, 256)\n",
      "(40, 256, 256)\n",
      "(41, 256, 256)\n",
      "(32, 256, 256)\n",
      "(73, 256, 256)\n",
      "(34, 256, 256)\n",
      "vol shape (107, 256, 256)\n"
     ]
    }
   ],
   "source": [
    "# method 1, concatenate all into giant array to be featurized\n",
    "# probably don't want to do because each orientation has different visualization method and thus different means etc\n",
    "\n",
    "orientations = ['axial', 'sagittal', 'coronal']\n",
    "train_path = 'D:/github/mileswangthesis/train/'\n",
    "\n",
    "counter = 5\n",
    "\n",
    "for filename in filenames:\n",
    "    if counter > 0:\n",
    "        vol = np.ones((1, 256, 256))\n",
    "        for orientation in orientations:\n",
    "            info = np.load(train_path + orientation + '/' + filename)\n",
    "            print(vol.shape)\n",
    "            print(info.shape)\n",
    "            vol = np.concatenate((vol, info), axis=0)\n",
    "        print('vol shape', vol.shape)\n",
    "        counter = counter - 1\n"
   ]
  },
  {
   "cell_type": "markdown",
   "metadata": {},
   "source": [
    "##### Some General Thoughts\n",
    "\n",
    "Perhaps can reduce the dimensions of the pics to 50 - 200 pixel boxes? Should hopefully reduce the amount of work the vectors have to do (256 -> 150) should be about 1/3 the work. "
   ]
  },
  {
   "cell_type": "code",
   "execution_count": null,
   "metadata": {},
   "outputs": [],
   "source": []
  }
 ],
 "metadata": {
  "kernelspec": {
   "display_name": "Python 3",
   "language": "python",
   "name": "python3"
  },
  "language_info": {
   "codemirror_mode": {
    "name": "ipython",
    "version": 3
   },
   "file_extension": ".py",
   "mimetype": "text/x-python",
   "name": "python",
   "nbconvert_exporter": "python",
   "pygments_lexer": "ipython3",
   "version": "3.7.3"
  }
 },
 "nbformat": 4,
 "nbformat_minor": 2
}
